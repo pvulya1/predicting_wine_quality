{
 "cells": [
  {
   "cell_type": "markdown",
   "id": "33392419",
   "metadata": {},
   "source": [
    "## Preliminary Research on Wine Reviews Dataset\n",
    "\n",
    "Source: https://www.kaggle.com/datasets/zynicide/wine-reviews  \n",
    "The data was scraped from http://www.winemag.com/?s=&drink_type=wine during 2017. \n",
    "\n",
    "\n",
    "**Data Description** \n",
    "- ```country```: the country of origin of wine\n",
    "- ```description```: a few sentences from a sommelier describing the wine's taste, smell, look, feel, etc.\n",
    "- ```designation```: the vineyard within the winery where the grapes that made the wine are from\n",
    "- ```points```: the number of points WineEnthusiast rated the wine on a scale of 1-100 (though they say they only post reviews for wines that score >=80)\n",
    "- ```price```: the cost for a bottle of the wine\n",
    "- ```province```: the province or state that the wine is from\n",
    "- ```region_1```: the wine growing area in a province or state (ie Napa)\n",
    "- ```region_2```: sometimes there are more specific regions specified within a wine growing area (ie Rutherford inside the Napa Valley), but this value can sometimes be blank\n",
    "- ```taster_name```: name of the person who tasted and reviewed the wine\n",
    "- ```taster_photo```: url of the taster's photo\n",
    "- ```taster_twitter_handle```: Twitter handle for the person who tasted and reviewed the wine\n",
    "- ```title```: the title of the wine review\n",
    "- ```variety```: the type of grapes used to make the wine (ie Pinot Noir)\n",
    "- ```vintage```: the vintage of the wine\n",
    "- ```winery```: the winery that made the wine\n",
    "\n",
    "In this research, I will focus on predicting ratings by puting input variables."
   ]
  },
  {
   "cell_type": "code",
   "execution_count": 1,
   "id": "259f89bd",
   "metadata": {},
   "outputs": [],
   "source": [
    "# Importing Libraries\n",
    "import pandas as pd\n",
    "import numpy as np\n",
    "\n",
    "import matplotlib.pyplot as plt\n",
    "from matplotlib import rcParams\n",
    "import os\n",
    "import seaborn as sns\n",
    "\n",
    "import plotly.express as px\n",
    "import plotly.graph_objs as go\n",
    "from plotly.subplots import make_subplots\n",
    "from wordcloud import WordCloud, STOPWORDS, ImageColorGenerator\n",
    "\n",
    "from sklearn.model_selection import train_test_split\n",
    "from xgboost import XGBClassifier\n",
    "from sklearn.feature_selection import SelectFromModel\n",
    "from sklearn.ensemble import RandomForestRegressor\n",
    "\n",
    "from sklearn.metrics import mean_squared_error\n",
    "\n",
    "# styling\n",
    "plt.style.use(\"ggplot\")\n",
    "rcParams['figure.figsize'] = (12, 6)"
   ]
  },
  {
   "cell_type": "code",
   "execution_count": 2,
   "id": "85fca25b",
   "metadata": {},
   "outputs": [
    {
     "data": {
      "text/html": [
       "<div>\n",
       "<style scoped>\n",
       "    .dataframe tbody tr th:only-of-type {\n",
       "        vertical-align: middle;\n",
       "    }\n",
       "\n",
       "    .dataframe tbody tr th {\n",
       "        vertical-align: top;\n",
       "    }\n",
       "\n",
       "    .dataframe thead th {\n",
       "        text-align: right;\n",
       "    }\n",
       "</style>\n",
       "<table border=\"1\" class=\"dataframe\">\n",
       "  <thead>\n",
       "    <tr style=\"text-align: right;\">\n",
       "      <th></th>\n",
       "      <th>Unnamed: 0</th>\n",
       "      <th>country</th>\n",
       "      <th>description</th>\n",
       "      <th>designation</th>\n",
       "      <th>points</th>\n",
       "      <th>price</th>\n",
       "      <th>province</th>\n",
       "      <th>region_1</th>\n",
       "      <th>region_2</th>\n",
       "      <th>taster_name</th>\n",
       "      <th>taster_twitter_handle</th>\n",
       "      <th>title</th>\n",
       "      <th>variety</th>\n",
       "      <th>winery</th>\n",
       "    </tr>\n",
       "  </thead>\n",
       "  <tbody>\n",
       "    <tr>\n",
       "      <th>79827</th>\n",
       "      <td>79827</td>\n",
       "      <td>NaN</td>\n",
       "      <td>An interesting blend of indigenous Bulgarian a...</td>\n",
       "      <td>Hrumki Melnik 55 Mourvèdre Marselan</td>\n",
       "      <td>89</td>\n",
       "      <td>25.0</td>\n",
       "      <td>NaN</td>\n",
       "      <td>NaN</td>\n",
       "      <td>NaN</td>\n",
       "      <td>Jeff Jenssen</td>\n",
       "      <td>@worldwineguys</td>\n",
       "      <td>Orbelus 2012 Hrumki Melnik 55 Mourvèdre Marsel...</td>\n",
       "      <td>Red Blend</td>\n",
       "      <td>Orbelus</td>\n",
       "    </tr>\n",
       "    <tr>\n",
       "      <th>114782</th>\n",
       "      <td>114782</td>\n",
       "      <td>Italy</td>\n",
       "      <td>This is a genuine and straightforward red wine...</td>\n",
       "      <td>NaN</td>\n",
       "      <td>89</td>\n",
       "      <td>52.0</td>\n",
       "      <td>Piedmont</td>\n",
       "      <td>Ghemme</td>\n",
       "      <td>NaN</td>\n",
       "      <td>NaN</td>\n",
       "      <td>NaN</td>\n",
       "      <td>Dessilani 2004  Ghemme</td>\n",
       "      <td>Red Blend</td>\n",
       "      <td>Dessilani</td>\n",
       "    </tr>\n",
       "    <tr>\n",
       "      <th>70072</th>\n",
       "      <td>70072</td>\n",
       "      <td>France</td>\n",
       "      <td>This richly structured wine has dark tannins a...</td>\n",
       "      <td>Vieilles Vignes</td>\n",
       "      <td>89</td>\n",
       "      <td>22.0</td>\n",
       "      <td>Beaujolais</td>\n",
       "      <td>Côte de Brouilly</td>\n",
       "      <td>NaN</td>\n",
       "      <td>Roger Voss</td>\n",
       "      <td>@vossroger</td>\n",
       "      <td>Domaine Régis Champier 2013 Vieilles Vignes  (...</td>\n",
       "      <td>Gamay</td>\n",
       "      <td>Domaine Régis Champier</td>\n",
       "    </tr>\n",
       "    <tr>\n",
       "      <th>109938</th>\n",
       "      <td>109938</td>\n",
       "      <td>US</td>\n",
       "      <td>Distinctive and precise, this well-priced wine...</td>\n",
       "      <td>NaN</td>\n",
       "      <td>93</td>\n",
       "      <td>38.0</td>\n",
       "      <td>Oregon</td>\n",
       "      <td>Willamette Valley</td>\n",
       "      <td>Willamette Valley</td>\n",
       "      <td>Paul Gregutt</td>\n",
       "      <td>@paulgwine</td>\n",
       "      <td>The Eyrie Vineyards 2014 Pinot Noir (Willamett...</td>\n",
       "      <td>Pinot Noir</td>\n",
       "      <td>The Eyrie Vineyards</td>\n",
       "    </tr>\n",
       "    <tr>\n",
       "      <th>35649</th>\n",
       "      <td>35649</td>\n",
       "      <td>US</td>\n",
       "      <td>Doug Margerum delivers his annual crowd-please...</td>\n",
       "      <td>Sybarite</td>\n",
       "      <td>88</td>\n",
       "      <td>21.0</td>\n",
       "      <td>California</td>\n",
       "      <td>Happy Canyon of Santa Barbara</td>\n",
       "      <td>Central Coast</td>\n",
       "      <td>Matt Kettmann</td>\n",
       "      <td>@mattkettmann</td>\n",
       "      <td>Margerum 2015 Sybarite Sauvignon Blanc (Happy ...</td>\n",
       "      <td>Sauvignon Blanc</td>\n",
       "      <td>Margerum</td>\n",
       "    </tr>\n",
       "  </tbody>\n",
       "</table>\n",
       "</div>"
      ],
      "text/plain": [
       "        Unnamed: 0 country                                        description  \\\n",
       "79827        79827     NaN  An interesting blend of indigenous Bulgarian a...   \n",
       "114782      114782   Italy  This is a genuine and straightforward red wine...   \n",
       "70072        70072  France  This richly structured wine has dark tannins a...   \n",
       "109938      109938      US  Distinctive and precise, this well-priced wine...   \n",
       "35649        35649      US  Doug Margerum delivers his annual crowd-please...   \n",
       "\n",
       "                                designation  points  price    province  \\\n",
       "79827   Hrumki Melnik 55 Mourvèdre Marselan      89   25.0         NaN   \n",
       "114782                                  NaN      89   52.0    Piedmont   \n",
       "70072                       Vieilles Vignes      89   22.0  Beaujolais   \n",
       "109938                                  NaN      93   38.0      Oregon   \n",
       "35649                              Sybarite      88   21.0  California   \n",
       "\n",
       "                             region_1           region_2    taster_name  \\\n",
       "79827                             NaN                NaN   Jeff Jenssen   \n",
       "114782                         Ghemme                NaN            NaN   \n",
       "70072                Côte de Brouilly                NaN     Roger Voss   \n",
       "109938              Willamette Valley  Willamette Valley   Paul Gregutt   \n",
       "35649   Happy Canyon of Santa Barbara      Central Coast  Matt Kettmann   \n",
       "\n",
       "       taster_twitter_handle  \\\n",
       "79827         @worldwineguys   \n",
       "114782                   NaN   \n",
       "70072             @vossroger   \n",
       "109938           @paulgwine    \n",
       "35649          @mattkettmann   \n",
       "\n",
       "                                                    title          variety  \\\n",
       "79827   Orbelus 2012 Hrumki Melnik 55 Mourvèdre Marsel...        Red Blend   \n",
       "114782                             Dessilani 2004  Ghemme        Red Blend   \n",
       "70072   Domaine Régis Champier 2013 Vieilles Vignes  (...            Gamay   \n",
       "109938  The Eyrie Vineyards 2014 Pinot Noir (Willamett...       Pinot Noir   \n",
       "35649   Margerum 2015 Sybarite Sauvignon Blanc (Happy ...  Sauvignon Blanc   \n",
       "\n",
       "                        winery  \n",
       "79827                  Orbelus  \n",
       "114782               Dessilani  \n",
       "70072   Domaine Régis Champier  \n",
       "109938     The Eyrie Vineyards  \n",
       "35649                 Margerum  "
      ]
     },
     "execution_count": 2,
     "metadata": {},
     "output_type": "execute_result"
    }
   ],
   "source": [
    "wines2 = pd.read_csv('datasets/winemag-data-130k-v2.csv')\n",
    "wines2.sample(5)  # breifly check the data"
   ]
  },
  {
   "cell_type": "markdown",
   "id": "03fd0c39",
   "metadata": {},
   "source": [
    "## Data Cleaning\n",
    "\n",
    "Index column(``Unnamed: 0``) and ``region_2`` is dropped for the simplicity of the dataset.  \n",
    "To ensure the unique reviews, ``description`` is used to eliminate duplicated values. Also, since we don't want to predict ratings, or recommend wine without the information of price and the variety, ``price``, and ``variety`` are used to drop missing values."
   ]
  },
  {
   "cell_type": "code",
   "execution_count": 3,
   "id": "e1fcf2b1",
   "metadata": {},
   "outputs": [],
   "source": [
    "wines2 = wines2.drop('Unnamed: 0', axis=1)  # drop first index column\n",
    "wines2 = wines2.drop('region_2', axis =1)  # drop 'region_2' column. \n",
    "# 'region_2' is indicating more specific regions but most of the times, it is blanked."
   ]
  },
  {
   "cell_type": "code",
   "execution_count": 4,
   "id": "5943e800",
   "metadata": {},
   "outputs": [
    {
     "name": "stdout",
     "output_type": "stream",
     "text": [
      "<class 'pandas.core.frame.DataFrame'>\n",
      "RangeIndex: 111566 entries, 0 to 111565\n",
      "Data columns (total 12 columns):\n",
      " #   Column                 Non-Null Count   Dtype  \n",
      "---  ------                 --------------   -----  \n",
      " 0   country                111511 non-null  object \n",
      " 1   description            111566 non-null  object \n",
      " 2   designation            79517 non-null   object \n",
      " 3   points                 111566 non-null  int64  \n",
      " 4   price                  111566 non-null  float64\n",
      " 5   province               111511 non-null  object \n",
      " 6   region_1               93556 non-null   object \n",
      " 7   taster_name            88299 non-null   object \n",
      " 8   taster_twitter_handle  83816 non-null   object \n",
      " 9   title                  111566 non-null  object \n",
      " 10  variety                111566 non-null  object \n",
      " 11  winery                 111566 non-null  object \n",
      "dtypes: float64(1), int64(1), object(10)\n",
      "memory usage: 10.2+ MB\n"
     ]
    }
   ],
   "source": [
    "# Dropping duplicated and missing values \n",
    "wines2 = wines2.drop_duplicates(subset=['description'])\n",
    "wines2 = wines2.reset_index(drop=True)\n",
    "\n",
    "wines2 = wines2.dropna(subset=['price', 'variety'])\n",
    "wines2 = wines2.reset_index(drop=True)\n",
    "\n",
    "# Descriptive statistics after cleaning\n",
    "wines2.info()"
   ]
  },
  {
   "cell_type": "code",
   "execution_count": 5,
   "id": "31070d4c",
   "metadata": {},
   "outputs": [
    {
     "data": {
      "text/html": [
       "<div>\n",
       "<style scoped>\n",
       "    .dataframe tbody tr th:only-of-type {\n",
       "        vertical-align: middle;\n",
       "    }\n",
       "\n",
       "    .dataframe tbody tr th {\n",
       "        vertical-align: top;\n",
       "    }\n",
       "\n",
       "    .dataframe thead th {\n",
       "        text-align: right;\n",
       "    }\n",
       "</style>\n",
       "<table border=\"1\" class=\"dataframe\">\n",
       "  <thead>\n",
       "    <tr style=\"text-align: right;\">\n",
       "      <th></th>\n",
       "      <th>Total</th>\n",
       "      <th>Percent</th>\n",
       "    </tr>\n",
       "  </thead>\n",
       "  <tbody>\n",
       "    <tr>\n",
       "      <th>designation</th>\n",
       "      <td>32049</td>\n",
       "      <td>28.726494</td>\n",
       "    </tr>\n",
       "    <tr>\n",
       "      <th>taster_twitter_handle</th>\n",
       "      <td>27750</td>\n",
       "      <td>24.873169</td>\n",
       "    </tr>\n",
       "    <tr>\n",
       "      <th>taster_name</th>\n",
       "      <td>23267</td>\n",
       "      <td>20.854920</td>\n",
       "    </tr>\n",
       "    <tr>\n",
       "      <th>region_1</th>\n",
       "      <td>18010</td>\n",
       "      <td>16.142911</td>\n",
       "    </tr>\n",
       "    <tr>\n",
       "      <th>country</th>\n",
       "      <td>55</td>\n",
       "      <td>0.049298</td>\n",
       "    </tr>\n",
       "    <tr>\n",
       "      <th>province</th>\n",
       "      <td>55</td>\n",
       "      <td>0.049298</td>\n",
       "    </tr>\n",
       "    <tr>\n",
       "      <th>description</th>\n",
       "      <td>0</td>\n",
       "      <td>0.000000</td>\n",
       "    </tr>\n",
       "    <tr>\n",
       "      <th>points</th>\n",
       "      <td>0</td>\n",
       "      <td>0.000000</td>\n",
       "    </tr>\n",
       "    <tr>\n",
       "      <th>price</th>\n",
       "      <td>0</td>\n",
       "      <td>0.000000</td>\n",
       "    </tr>\n",
       "    <tr>\n",
       "      <th>title</th>\n",
       "      <td>0</td>\n",
       "      <td>0.000000</td>\n",
       "    </tr>\n",
       "    <tr>\n",
       "      <th>variety</th>\n",
       "      <td>0</td>\n",
       "      <td>0.000000</td>\n",
       "    </tr>\n",
       "    <tr>\n",
       "      <th>winery</th>\n",
       "      <td>0</td>\n",
       "      <td>0.000000</td>\n",
       "    </tr>\n",
       "  </tbody>\n",
       "</table>\n",
       "</div>"
      ],
      "text/plain": [
       "                       Total    Percent\n",
       "designation            32049  28.726494\n",
       "taster_twitter_handle  27750  24.873169\n",
       "taster_name            23267  20.854920\n",
       "region_1               18010  16.142911\n",
       "country                   55   0.049298\n",
       "province                  55   0.049298\n",
       "description                0   0.000000\n",
       "points                     0   0.000000\n",
       "price                      0   0.000000\n",
       "title                      0   0.000000\n",
       "variety                    0   0.000000\n",
       "winery                     0   0.000000"
      ]
     },
     "execution_count": 5,
     "metadata": {},
     "output_type": "execute_result"
    }
   ],
   "source": [
    "# Check missing data\n",
    "total = wines2.isnull().sum().sort_values(ascending = False)\n",
    "percent = (wines2.isnull().sum()/wines2.isnull().count()*100).sort_values(ascending = False)\n",
    "missing_data  = pd.concat([total, percent], axis=1, keys=['Total', 'Percent'])\n",
    "missing_data"
   ]
  },
  {
   "cell_type": "markdown",
   "id": "c13a8f2b",
   "metadata": {},
   "source": [
    "### Regression with CatBoost \n",
    "\n",
    "To predict the points(ratings) of wine using given inputs, I will use *boosting*, based on decision tree here. \n",
    "\n",
    "Decision tree learning is one of the supervised learning method in ML which predicts results by creating split using the predictors which reduce RSS effectively. Since our output variable, ``points`` is continuous value, regression tree will be appropriate. \n",
    "\n",
    "\n",
    "#### Categorical Variables\n",
    "- Since most of the independent variables are categorical, in order to do regression analysis, we need to transform the categorical features into numerical features. One of the common technique is called one-hot encoding. In this study, we will use CatBoost algorithm which uses one-hot encoding for categorical features automatically. (Ref: https://catboost.ai/en/docs/features/categorical-features) CatBoost builds upon the theory of decision trees and gradient boosting. The main idea of boosting is to sequentially combine many weak models and thus through greedy search create a strong competitive predictive model. \n"
   ]
  },
  {
   "cell_type": "markdown",
   "id": "9df6ef6f",
   "metadata": {},
   "source": [
    "#### Feature Selection\n",
    "- To find a most relevant input variables, I will try univariate feature selection based on feature importances from CatboostRegressor. Univariate feature selection works by selecting the best features based on univariate statistical tests. . \n",
    "\n",
    "- Since ``description`` needs NLP analysis, I will drop this variable here.\n",
    "\n",
    "Reference: \n",
    "- http://scikit-learn.org/stable/modules/feature_selection.html#univariate-feature-selection\n",
    "- https://www.kaggle.com/code/mistrzuniu1/tutorial-eda-feature-selection-regression\n",
    "- https://towardsdatascience.com/catboost-regression-in-6-minutes-3487f3e5b329\n",
    "- https://catboost.ai/en/docs/concepts/python-reference_catboostregressor"
   ]
  },
  {
   "cell_type": "code",
   "execution_count": 6,
   "id": "43cf88be",
   "metadata": {},
   "outputs": [],
   "source": [
    "wines2 = wines2.drop(columns=['description'])"
   ]
  },
  {
   "cell_type": "code",
   "execution_count": 7,
   "id": "9dffad93",
   "metadata": {},
   "outputs": [
    {
     "name": "stdout",
     "output_type": "stream",
     "text": [
      "Index(['country', 'designation', 'price', 'province', 'region_1',\n",
      "       'taster_name', 'taster_twitter_handle', 'title', 'variety', 'winery'],\n",
      "      dtype='object')\n"
     ]
    },
    {
     "data": {
      "text/plain": [
       "[0, 1, 3, 4, 5, 6, 7, 8, 9]"
      ]
     },
     "execution_count": 7,
     "metadata": {},
     "output_type": "execute_result"
    }
   ],
   "source": [
    "# Prepare train and test data\n",
    "from sklearn.model_selection import train_test_split\n",
    "from sklearn.feature_selection import SelectFromModel\n",
    "from sklearn.metrics import mean_squared_error\n",
    "from sklearn.metrics import r2_score\n",
    "from catboost import Pool, CatBoostRegressor, cv\n",
    "\n",
    "X=wines2.drop(columns=['points'])\n",
    "\n",
    "X=X.fillna(-1)\n",
    "print(X.columns)\n",
    "categorical_features_indices =[0,1,3,4,5,6,7,8,9]\n",
    "y=wines2['points']\n",
    "\n",
    "# Split data into 80% training and 20% test set.\n",
    "X_train, X_test, y_train, y_test = train_test_split(X, y, test_size=0.2, \n",
    "                                                    random_state=42)\n",
    "\n",
    "X_train, X_valid, y_train, y_valid = train_test_split(X_train, y_train, test_size=0.2, \n",
    "                                                    random_state=52)\n",
    "\n",
    "categorical_features_indices"
   ]
  },
  {
   "cell_type": "code",
   "execution_count": 8,
   "id": "8eacf31c",
   "metadata": {},
   "outputs": [],
   "source": [
    "# Create CatBoostRegressor model with Mean squared error loss function.\n",
    "def perform_model(X_train, y_train,X_valid, y_valid, X_test, y_test):\n",
    "    model = CatBoostRegressor(loss_function = 'RMSE', iterations = 300)\n",
    "    \n",
    "    # Train model\n",
    "    model.fit(\n",
    "        X_train, y_train,\n",
    "        cat_features = categorical_features_indices,\n",
    "        eval_set=(X_valid, y_valid),\n",
    "        verbose=False\n",
    "    )\n",
    "    \n",
    "    y_train_pred = model.predict(X_train)\n",
    "    y_test_pred = model.predict(X_test)\n",
    "    \n",
    "    # RMSE\n",
    "    rmse_train = (np.sqrt(mean_squared_error(y_train, y_train_pred)))\n",
    "    rmse_test = (np.sqrt(mean_squared_error(y_test, y_test_pred)))\n",
    "    \n",
    "    \n",
    "    print(\"R-Squared(train): {:.4f}\".format(model.score(X_train, y_train)))\n",
    "    print(\"R-Squared(test):  {:.4f}\".format(model.score(X_test, y_test)))\n",
    "    print(\"RMSE(train): {:.4f}\".format(rmse_train))\n",
    "    print(\"RMSE(test): {:.4f}\".format(rmse_test))\n",
    "\n",
    "    return model"
   ]
  },
  {
   "cell_type": "code",
   "execution_count": 9,
   "id": "ae76de53",
   "metadata": {},
   "outputs": [
    {
     "name": "stdout",
     "output_type": "stream",
     "text": [
      "R-Squared(train): 0.6521\n",
      "R-Squared(test):  0.5636\n",
      "RMSE(train): 1.8299\n",
      "RMSE(test): 2.0484\n"
     ]
    }
   ],
   "source": [
    "model=perform_model(X_train, y_train, X_valid, y_valid,X_test, y_test)"
   ]
  },
  {
   "cell_type": "code",
   "execution_count": 10,
   "id": "9769b5c1",
   "metadata": {},
   "outputs": [],
   "source": [
    "# Feature importance plotting\n",
    "feature_score = pd.DataFrame(list(zip(X.dtypes.index, model.get_feature_importance(Pool(X, label=y, cat_features=categorical_features_indices)))),\n",
    "                columns=['Feature','Score'])\n",
    "\n",
    "feature_score = feature_score.sort_values(by='Score', ascending=False, inplace=False, kind='quicksort', na_position='last')"
   ]
  },
  {
   "cell_type": "code",
   "execution_count": 11,
   "id": "005cca95",
   "metadata": {},
   "outputs": [
    {
     "data": {
      "image/png": "[encoded data removed]",
      "text/plain": [
       "<Figure size 1200x700 with 1 Axes>"
      ]
     },
     "metadata": {},
     "output_type": "display_data"
    }
   ],
   "source": [
    "plt.rcParams[\"figure.figsize\"] = (12,7)\n",
    "ax = feature_score.plot('Feature', 'Score', kind='bar', color='c')\n",
    "ax.set_title(\"Catboost Feature Importance Ranking\", fontsize = 14)\n",
    "ax.set_xlabel('')\n",
    "\n",
    "rects = ax.patches\n",
    "\n",
    "labels = feature_score['Score'].round(2)\n",
    "\n",
    "for rect, label in zip(rects, labels):\n",
    "    height = rect.get_height()\n",
    "    ax.text(rect.get_x() + rect.get_width()/2, height + 0.35, label, ha='center', va='bottom')\n",
    "\n",
    "plt.show()"
   ]
  },
  {
   "cell_type": "markdown",
   "id": "367e8d8c",
   "metadata": {},
   "source": [
    "From the Feature importance ranking plot above, we can see that the ``price`` is most important feature in the model, followed by ``winery``, and the ``title`` is the least important feature. \n",
    "\n",
    "To simplify our model, let's drop 3 variables with least importance. "
   ]
  },
  {
   "cell_type": "code",
   "execution_count": 12,
   "id": "d67857cd",
   "metadata": {},
   "outputs": [
    {
     "name": "stdout",
     "output_type": "stream",
     "text": [
      "Index(['country', 'price', 'region_1', 'taster_name', 'taster_twitter_handle',\n",
      "       'variety', 'winery'],\n",
      "      dtype='object')\n"
     ]
    }
   ],
   "source": [
    "# Now, I will drop 3 varaibles with least importance\n",
    "\n",
    "X= wines2.drop(columns=['points', 'designation', 'title', 'province'])\n",
    "X= X.fillna(-1)\n",
    "y= wines2['points']\n",
    "\n",
    "X_train, X_test, y_train, y_test = train_test_split(X, y, test_size=0.2, \n",
    "                                                    random_state=42)\n",
    "\n",
    "X_train, X_valid, y_train, y_valid = train_test_split(X_train, y_train, test_size=0.2, \n",
    "                                                    random_state=52)\n",
    "\n",
    "print(X.columns)\n",
    "categorical_features_indices =[0,2,3,4,5,6]"
   ]
  },
  {
   "cell_type": "code",
   "execution_count": 13,
   "id": "a9da77cc",
   "metadata": {},
   "outputs": [
    {
     "name": "stdout",
     "output_type": "stream",
     "text": [
      "R-Squared(train): 0.6324\n",
      "R-Squared(test):  0.5598\n",
      "RMSE(train): 1.8812\n",
      "RMSE(test): 2.0572\n"
     ]
    }
   ],
   "source": [
    "# Run the model again with less variables\n",
    "model=perform_model(X_train, y_train, X_valid, y_valid, X_test, y_test)"
   ]
  }
 ],
 "metadata": {
  "kernelspec": {
   "display_name": "Python 3 (ipykernel)",
   "language": "python",
   "name": "python3"
  },
  "language_info": {
   "codemirror_mode": {
    "name": "ipython",
    "version": 3
   },
   "file_extension": ".py",
   "mimetype": "text/x-python",
   "name": "python",
   "nbconvert_exporter": "python",
   "pygments_lexer": "ipython3",
   "version": "3.9.13"
  }
 },
 "nbformat": 4,
 "nbformat_minor": 5
}
