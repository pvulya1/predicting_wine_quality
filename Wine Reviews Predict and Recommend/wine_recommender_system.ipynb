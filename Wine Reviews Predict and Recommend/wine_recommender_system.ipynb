{
 "cells": [
  {
   "cell_type": "code",
   "execution_count": 1,
   "metadata": {},
   "outputs": [
    {
     "name": "stderr",
     "output_type": "stream",
     "text": [
      "[nltk_data] Downloading package stopwords to\n",
      "[nltk_data]     C:\\Users\\Eugene\\AppData\\Roaming\\nltk_data...\n",
      "[nltk_data]   Package stopwords is already up-to-date!\n",
      "[nltk_data] Downloading package punkt to\n",
      "[nltk_data]     C:\\Users\\Eugene\\AppData\\Roaming\\nltk_data...\n",
      "[nltk_data]   Package punkt is already up-to-date!\n",
      "[nltk_data] Downloading package wordnet to\n",
      "[nltk_data]     C:\\Users\\Eugene\\AppData\\Roaming\\nltk_data...\n",
      "[nltk_data]   Package wordnet is already up-to-date!\n",
      "[nltk_data] Downloading package omw-1.4 to\n",
      "[nltk_data]     C:\\Users\\Eugene\\AppData\\Roaming\\nltk_data...\n",
      "[nltk_data]   Package omw-1.4 is already up-to-date!\n"
     ]
    }
   ],
   "source": [
    "import pandas as pd\n",
    "import numpy as np\n",
    "from sklearn.feature_extraction.text import TfidfVectorizer\n",
    "from sklearn.metrics.pairwise import cosine_similarity\n",
    "import nltk\n",
    "nltk.download('stopwords')\n",
    "nltk.download('punkt')\n",
    "nltk.download('wordnet')\n",
    "nltk.download('omw-1.4')\n",
    "from nltk.corpus import stopwords\n",
    "from nltk.stem import WordNetLemmatizer\n",
    "from nltk.tokenize import word_tokenize\n",
    "import re\n",
    "import pickle\n",
    "\n",
    "from IPython.display import display, HTML\n",
    "import pandas as pd\n",
    "\n",
    "pd.set_option('display.max_colwidth', None)"
   ]
  },
  {
   "cell_type": "code",
   "execution_count": 3,
   "metadata": {},
   "outputs": [
    {
     "data": {
      "text/plain": [
       "(47673, 12)"
      ]
     },
     "execution_count": 3,
     "metadata": {},
     "output_type": "execute_result"
    }
   ],
   "source": [
    "wine_reviews = pd.read_csv('..\\datasets\\winemag-data-130k-v2.csv').drop(['Unnamed: 0', 'region_2'], axis=1).dropna().drop_duplicates()\n",
    "wine_reviews.head()\n",
    "wine_reviews.shape"
   ]
  },
  {
   "cell_type": "code",
   "execution_count": 4,
   "metadata": {},
   "outputs": [
    {
     "data": {
      "text/html": [
       "<div>\n",
       "<style scoped>\n",
       "    .dataframe tbody tr th:only-of-type {\n",
       "        vertical-align: middle;\n",
       "    }\n",
       "\n",
       "    .dataframe tbody tr th {\n",
       "        vertical-align: top;\n",
       "    }\n",
       "\n",
       "    .dataframe thead th {\n",
       "        text-align: right;\n",
       "    }\n",
       "</style>\n",
       "<table border=\"1\" class=\"dataframe\">\n",
       "  <thead>\n",
       "    <tr style=\"text-align: right;\">\n",
       "      <th></th>\n",
       "      <th>index</th>\n",
       "      <th>country</th>\n",
       "      <th>description</th>\n",
       "      <th>designation</th>\n",
       "      <th>points</th>\n",
       "      <th>price</th>\n",
       "      <th>province</th>\n",
       "      <th>region_1</th>\n",
       "      <th>taster_name</th>\n",
       "      <th>taster_twitter_handle</th>\n",
       "      <th>title</th>\n",
       "      <th>variety</th>\n",
       "      <th>winery</th>\n",
       "    </tr>\n",
       "  </thead>\n",
       "  <tbody>\n",
       "    <tr>\n",
       "      <th>0</th>\n",
       "      <td>75509</td>\n",
       "      <td>US</td>\n",
       "      <td>Deep and dense aromas of olallieberry and black plum integrate with vanilla bean and lilac on the nose of this bottling by Steve Martell, formerly of Sextant Winery. A soft mouthfeel unleashes well-integrated flavors, with lavender, pepper, baked blackberry and charcoal simmering to the surface through intense acidity. Great now, it will last many years.</td>\n",
       "      <td>Praying Mantis</td>\n",
       "      <td>93</td>\n",
       "      <td>65.0</td>\n",
       "      <td>California</td>\n",
       "      <td>Paso Robles</td>\n",
       "      <td>Matt Kettmann</td>\n",
       "      <td>@mattkettmann</td>\n",
       "      <td>Kaleidos 2013 Praying Mantis Syrah (Paso Robles)</td>\n",
       "      <td>Syrah</td>\n",
       "      <td>Kaleidos</td>\n",
       "    </tr>\n",
       "    <tr>\n",
       "      <th>1</th>\n",
       "      <td>115981</td>\n",
       "      <td>France</td>\n",
       "      <td>Raspberry ripeness and soft tannins lend warmth to this structured wine. It has weight and a smoky wood character, with a juicy finish. Age for 2–3 years.</td>\n",
       "      <td>Domaine de la Créa Les Cent Vignes Premier Cru</td>\n",
       "      <td>88</td>\n",
       "      <td>41.0</td>\n",
       "      <td>Burgundy</td>\n",
       "      <td>Beaune</td>\n",
       "      <td>Roger Voss</td>\n",
       "      <td>@vossroger</td>\n",
       "      <td>Louis Max 2009 Domaine de la Créa Les Cent Vignes Premier Cru  (Beaune)</td>\n",
       "      <td>Pinot Noir</td>\n",
       "      <td>Louis Max</td>\n",
       "    </tr>\n",
       "    <tr>\n",
       "      <th>2</th>\n",
       "      <td>86235</td>\n",
       "      <td>Spain</td>\n",
       "      <td>A clear step up from the overdone 2003 Propiedad, this vintage is sweet and easy to like. There's a blast of hickory smoke on the new-oak nose, but also black fruit and molasses. The ripe palate deals chewy fruit, medium tannins and moderate length. It's a charming but blunt wine, and all in all it's probably not one to hold for too long. Drink now through 2009.</td>\n",
       "      <td>Propiedad</td>\n",
       "      <td>91</td>\n",
       "      <td>40.0</td>\n",
       "      <td>Northern Spain</td>\n",
       "      <td>Rioja</td>\n",
       "      <td>Michael Schachner</td>\n",
       "      <td>@wineschach</td>\n",
       "      <td>Palacios Remondo 2005 Propiedad  (Rioja)</td>\n",
       "      <td>Tempranillo</td>\n",
       "      <td>Palacios Remondo</td>\n",
       "    </tr>\n",
       "    <tr>\n",
       "      <th>3</th>\n",
       "      <td>37735</td>\n",
       "      <td>France</td>\n",
       "      <td>This wine is crisp and fruity. With acidity as well as a light toast character, it is already balanced, bringing yellow and melon fruit flavors into the mineral texture. Drink from 2022.</td>\n",
       "      <td>Genevrières Premier Cru</td>\n",
       "      <td>93</td>\n",
       "      <td>160.0</td>\n",
       "      <td>Burgundy</td>\n",
       "      <td>Meursault</td>\n",
       "      <td>Roger Voss</td>\n",
       "      <td>@vossroger</td>\n",
       "      <td>Domaine Buisson Battault 2015 Genevrières Premier Cru  (Meursault)</td>\n",
       "      <td>Chardonnay</td>\n",
       "      <td>Domaine Buisson Battault</td>\n",
       "    </tr>\n",
       "    <tr>\n",
       "      <th>4</th>\n",
       "      <td>20005</td>\n",
       "      <td>Spain</td>\n",
       "      <td>This is Cáceres' bread-and-butter red Rioja, and the '04 is fruity, light and very approachable. The nose shows some cotton candy and other bouncy red-fruit aromas, while the palate is easygoing, fleshy and balanced by a beam of juicy acidity. Along the way, you'll pull out flavors of cherry, raspberry and a finishing note of bitter coffee.</td>\n",
       "      <td>Crianza</td>\n",
       "      <td>87</td>\n",
       "      <td>15.0</td>\n",
       "      <td>Northern Spain</td>\n",
       "      <td>Rioja</td>\n",
       "      <td>Michael Schachner</td>\n",
       "      <td>@wineschach</td>\n",
       "      <td>Marqués de Cáceres 2004 Crianza  (Rioja)</td>\n",
       "      <td>Tempranillo</td>\n",
       "      <td>Marqués de Cáceres</td>\n",
       "    </tr>\n",
       "  </tbody>\n",
       "</table>\n",
       "</div>"
      ],
      "text/plain": [
       "    index country  \\\n",
       "0   75509      US   \n",
       "1  115981  France   \n",
       "2   86235   Spain   \n",
       "3   37735  France   \n",
       "4   20005   Spain   \n",
       "\n",
       "                                                                                                                                                                                                                                                                                                                                                                    description  \\\n",
       "0          Deep and dense aromas of olallieberry and black plum integrate with vanilla bean and lilac on the nose of this bottling by Steve Martell, formerly of Sextant Winery. A soft mouthfeel unleashes well-integrated flavors, with lavender, pepper, baked blackberry and charcoal simmering to the surface through intense acidity. Great now, it will last many years.   \n",
       "1                                                                                                                                                                                                                    Raspberry ripeness and soft tannins lend warmth to this structured wine. It has weight and a smoky wood character, with a juicy finish. Age for 2–3 years.   \n",
       "2  A clear step up from the overdone 2003 Propiedad, this vintage is sweet and easy to like. There's a blast of hickory smoke on the new-oak nose, but also black fruit and molasses. The ripe palate deals chewy fruit, medium tannins and moderate length. It's a charming but blunt wine, and all in all it's probably not one to hold for too long. Drink now through 2009.   \n",
       "3                                                                                                                                                                                    This wine is crisp and fruity. With acidity as well as a light toast character, it is already balanced, bringing yellow and melon fruit flavors into the mineral texture. Drink from 2022.   \n",
       "4                        This is Cáceres' bread-and-butter red Rioja, and the '04 is fruity, light and very approachable. The nose shows some cotton candy and other bouncy red-fruit aromas, while the palate is easygoing, fleshy and balanced by a beam of juicy acidity. Along the way, you'll pull out flavors of cherry, raspberry and a finishing note of bitter coffee.   \n",
       "\n",
       "                                      designation  points  price  \\\n",
       "0                                  Praying Mantis      93   65.0   \n",
       "1  Domaine de la Créa Les Cent Vignes Premier Cru      88   41.0   \n",
       "2                                       Propiedad      91   40.0   \n",
       "3                         Genevrières Premier Cru      93  160.0   \n",
       "4                                         Crianza      87   15.0   \n",
       "\n",
       "         province     region_1        taster_name taster_twitter_handle  \\\n",
       "0      California  Paso Robles      Matt Kettmann         @mattkettmann   \n",
       "1        Burgundy       Beaune         Roger Voss            @vossroger   \n",
       "2  Northern Spain        Rioja  Michael Schachner           @wineschach   \n",
       "3        Burgundy    Meursault         Roger Voss            @vossroger   \n",
       "4  Northern Spain        Rioja  Michael Schachner           @wineschach   \n",
       "\n",
       "                                                                     title  \\\n",
       "0                         Kaleidos 2013 Praying Mantis Syrah (Paso Robles)   \n",
       "1  Louis Max 2009 Domaine de la Créa Les Cent Vignes Premier Cru  (Beaune)   \n",
       "2                                 Palacios Remondo 2005 Propiedad  (Rioja)   \n",
       "3       Domaine Buisson Battault 2015 Genevrières Premier Cru  (Meursault)   \n",
       "4                                 Marqués de Cáceres 2004 Crianza  (Rioja)   \n",
       "\n",
       "       variety                    winery  \n",
       "0        Syrah                  Kaleidos  \n",
       "1   Pinot Noir                 Louis Max  \n",
       "2  Tempranillo          Palacios Remondo  \n",
       "3   Chardonnay  Domaine Buisson Battault  \n",
       "4  Tempranillo        Marqués de Cáceres  "
      ]
     },
     "execution_count": 4,
     "metadata": {},
     "output_type": "execute_result"
    }
   ],
   "source": [
    "#for memory optimization\n",
    "wine_reviews_sampled = wine_reviews.sample(25000).reset_index()\n",
    "wine_reviews_sampled.head()"
   ]
  },
  {
   "cell_type": "code",
   "execution_count": 5,
   "metadata": {},
   "outputs": [],
   "source": [
    "stop_words = set(stopwords.words('english'))\n",
    "lemmatizer = WordNetLemmatizer()\n",
    "\n",
    "def preprocess_text(text):\n",
    "    # Remove non-alphabetic characters\n",
    "    text = re.sub('[^a-zA-Z]', ' ', text)\n",
    "    # Tokenize and convert to lowercase\n",
    "    tokens = word_tokenize(text.lower())\n",
    "    # Remove stopwords and lemmatize the words\n",
    "    processed_text = ' '.join([lemmatizer.lemmatize(word) for word in tokens if word not in stop_words])\n",
    "    return processed_text\n",
    "\n",
    "wine_reviews_sampled['processed_description'] = wine_reviews_sampled['description'].apply(preprocess_text)"
   ]
  },
  {
   "cell_type": "code",
   "execution_count": 6,
   "metadata": {},
   "outputs": [],
   "source": [
    "max_features = 700  # Adjust this value based on your available memory\n",
    "tfidf = TfidfVectorizer(max_features=max_features)\n",
    "description_matrix = tfidf.fit_transform(wine_reviews_sampled['processed_description'])"
   ]
  },
  {
   "cell_type": "code",
   "execution_count": 7,
   "metadata": {},
   "outputs": [],
   "source": [
    "similarity_matrix = cosine_similarity(description_matrix)"
   ]
  },
  {
   "cell_type": "code",
   "execution_count": 8,
   "metadata": {},
   "outputs": [],
   "source": [
    "def recommend_wines(wine_title, n_recommendations=5):\n",
    "    # Find the index of the wine with the given title\n",
    "    wine_index = wine_reviews_sampled[wine_reviews_sampled['title'] == wine_title].index[0]\n",
    "    \n",
    "    # Get similarity scores for the given wine\n",
    "    similarity_scores = list(enumerate(similarity_matrix[wine_index]))\n",
    "    # Sort the wines based on the similarity scores\n",
    "    similarity_scores = sorted(similarity_scores, key=lambda x: x[1], reverse=True)\n",
    "    # Get the indices of the most similar wines (excluding the input wine itself)\n",
    "    most_similar_indices = [score[0] for score in similarity_scores[1:n_recommendations+1]]\n",
    "    # Return the names of the most similar wines\n",
    "    return wine_reviews['title'].iloc[most_similar_indices]"
   ]
  },
  {
   "cell_type": "code",
   "execution_count": 9,
   "metadata": {},
   "outputs": [
    {
     "data": {
      "text/plain": [
       "0                                        Kaleidos 2013 Praying Mantis Syrah (Paso Robles)\n",
       "1                 Louis Max 2009 Domaine de la Créa Les Cent Vignes Premier Cru  (Beaune)\n",
       "2                                                Palacios Remondo 2005 Propiedad  (Rioja)\n",
       "3                      Domaine Buisson Battault 2015 Genevrières Premier Cru  (Meursault)\n",
       "4                                                Marqués de Cáceres 2004 Crianza  (Rioja)\n",
       "                                               ...                                       \n",
       "24995    Syncline 2012 Underwood Mountain Vineyard Grüner Veltliner (Columbia Gorge (WA))\n",
       "24996                               Stonestreet 2014 Estate Chardonnay (Alexander Valley)\n",
       "24997                   Château des Arnauds 2012 Cuvée des Capucins  (Lalande de Pomerol)\n",
       "24998                                 Cadaretta 2014 Windthrow Red (Columbia Valley (WA))\n",
       "24999                                                 Mauro Veglio 2013 Gattera  (Barolo)\n",
       "Name: title, Length: 25000, dtype: object"
      ]
     },
     "execution_count": 9,
     "metadata": {},
     "output_type": "execute_result"
    }
   ],
   "source": [
    "wine_reviews_sampled['title']"
   ]
  },
  {
   "cell_type": "code",
   "execution_count": 10,
   "metadata": {},
   "outputs": [
    {
     "data": {
      "text/plain": [
       "43884                         Domaine Dujac 2009 Premier Cru  (Morey-Saint-Denis)\n",
       "21235    Inkberry 2009 Mountain Estate Shiraz-Cabernet Sauvignon (Central Ranges)\n",
       "25405                Jada Vineyard & Winery 2011 Jack of Hearts Red (Paso Robles)\n",
       "21327                                      Antucura 2006 Calcura Red (Uco Valley)\n",
       "2083      Marchiori & Barraud 2007 Cuartel 2 Marchiori Vineyard Malbec (Perdriel)\n",
       "Name: title, dtype: object"
      ]
     },
     "metadata": {},
     "output_type": "display_data"
    }
   ],
   "source": [
    "wine_title = 'Condado de Oriza 2006 Roble  (Ribera del Duero)'  # You can search by wine title\n",
    "recommendations = recommend_wines(wine_title)\n",
    "display(recommendations)"
   ]
  },
  {
   "cell_type": "code",
   "execution_count": 12,
   "metadata": {},
   "outputs": [],
   "source": [
    "# import pickle\n",
    "\n",
    "\n",
    "# with open(\"../web_app/wine_recommender.pkl\", \"wb\") as f:\n",
    "#     pickle.dump((wine_reviews_sampled['title'], similarity_matrix), f)"
   ]
  }
 ],
 "metadata": {
  "kernelspec": {
   "display_name": "ds",
   "language": "python",
   "name": "python3"
  },
  "language_info": {
   "codemirror_mode": {
    "name": "ipython",
    "version": 3
   },
   "file_extension": ".py",
   "mimetype": "text/x-python",
   "name": "python",
   "nbconvert_exporter": "python",
   "pygments_lexer": "ipython3",
   "version": "3.8.16"
  },
  "orig_nbformat": 4,
  "vscode": {
   "interpreter": {
    "hash": "ad14541a3a9bbb1e690bcdad7542c5b94fc5d38b1f10e265e38c65295405fc23"
   }
  }
 },
 "nbformat": 4,
 "nbformat_minor": 2
}
