{
 "cells": [
  {
   "cell_type": "code",
   "execution_count": 1,
   "metadata": {},
   "outputs": [
    {
     "name": "stderr",
     "output_type": "stream",
     "text": [
      "[nltk_data] Downloading package stopwords to\n",
      "[nltk_data]     C:\\Users\\Eugene\\AppData\\Roaming\\nltk_data...\n",
      "[nltk_data]   Package stopwords is already up-to-date!\n",
      "[nltk_data] Downloading package punkt to\n",
      "[nltk_data]     C:\\Users\\Eugene\\AppData\\Roaming\\nltk_data...\n",
      "[nltk_data]   Package punkt is already up-to-date!\n",
      "[nltk_data] Downloading package wordnet to\n",
      "[nltk_data]     C:\\Users\\Eugene\\AppData\\Roaming\\nltk_data...\n",
      "[nltk_data]   Package wordnet is already up-to-date!\n",
      "[nltk_data] Downloading package omw-1.4 to\n",
      "[nltk_data]     C:\\Users\\Eugene\\AppData\\Roaming\\nltk_data...\n",
      "[nltk_data]   Package omw-1.4 is already up-to-date!\n"
     ]
    }
   ],
   "source": [
    "import pandas as pd\n",
    "import numpy as np\n",
    "from sklearn.feature_extraction.text import TfidfVectorizer\n",
    "from sklearn.metrics.pairwise import cosine_similarity\n",
    "import nltk\n",
    "nltk.download('stopwords')\n",
    "nltk.download('punkt')\n",
    "nltk.download('wordnet')\n",
    "nltk.download('omw-1.4')\n",
    "from nltk.corpus import stopwords\n",
    "from nltk.stem import WordNetLemmatizer\n",
    "from nltk.tokenize import word_tokenize\n",
    "import re\n",
    "import pickle\n",
    "\n",
    "from IPython.display import display, HTML\n",
    "import pandas as pd\n",
    "\n",
    "pd.set_option('display.max_colwidth', None)"
   ]
  },
  {
   "cell_type": "code",
   "execution_count": 2,
   "metadata": {},
   "outputs": [
    {
     "data": {
      "text/plain": [
       "(47673, 12)"
      ]
     },
     "execution_count": 2,
     "metadata": {},
     "output_type": "execute_result"
    }
   ],
   "source": [
    "wine_reviews = pd.read_csv('datasets\\winemag-data-130k-v2.csv').drop(['Unnamed: 0', 'region_2'], axis=1).dropna().drop_duplicates()\n",
    "wine_reviews.head()\n",
    "wine_reviews.shape"
   ]
  },
  {
   "cell_type": "code",
   "execution_count": 3,
   "metadata": {},
   "outputs": [
    {
     "data": {
      "text/html": [
       "<div>\n",
       "<style scoped>\n",
       "    .dataframe tbody tr th:only-of-type {\n",
       "        vertical-align: middle;\n",
       "    }\n",
       "\n",
       "    .dataframe tbody tr th {\n",
       "        vertical-align: top;\n",
       "    }\n",
       "\n",
       "    .dataframe thead th {\n",
       "        text-align: right;\n",
       "    }\n",
       "</style>\n",
       "<table border=\"1\" class=\"dataframe\">\n",
       "  <thead>\n",
       "    <tr style=\"text-align: right;\">\n",
       "      <th></th>\n",
       "      <th>index</th>\n",
       "      <th>country</th>\n",
       "      <th>description</th>\n",
       "      <th>designation</th>\n",
       "      <th>points</th>\n",
       "      <th>price</th>\n",
       "      <th>province</th>\n",
       "      <th>region_1</th>\n",
       "      <th>taster_name</th>\n",
       "      <th>taster_twitter_handle</th>\n",
       "      <th>title</th>\n",
       "      <th>variety</th>\n",
       "      <th>winery</th>\n",
       "    </tr>\n",
       "  </thead>\n",
       "  <tbody>\n",
       "    <tr>\n",
       "      <th>0</th>\n",
       "      <td>58815</td>\n",
       "      <td>France</td>\n",
       "      <td>Attractively perfumed, this wine is still full of youthful apple and citrus acidity. It carries light flavors of almonds and tangy Seville orange zest, with the crispest aftertaste. Drink now.</td>\n",
       "      <td>Les Grenouilles Sec</td>\n",
       "      <td>86</td>\n",
       "      <td>17.0</td>\n",
       "      <td>Loire Valley</td>\n",
       "      <td>Vouvray</td>\n",
       "      <td>Roger Voss</td>\n",
       "      <td>@vossroger</td>\n",
       "      <td>Domaine du Petit Coteau 2012 Les Grenouilles Sec  (Vouvray)</td>\n",
       "      <td>Chenin Blanc</td>\n",
       "      <td>Domaine du Petit Coteau</td>\n",
       "    </tr>\n",
       "    <tr>\n",
       "      <th>1</th>\n",
       "      <td>72808</td>\n",
       "      <td>Italy</td>\n",
       "      <td>Densely concentrated, this plush wine opens with aromas of black currant, espresso and cedar. The robust, one-dimensional palate delivers raisin, chocolate and licorice alongside velvety tannins that hold the flavors together.</td>\n",
       "      <td>Cuculaia</td>\n",
       "      <td>89</td>\n",
       "      <td>65.0</td>\n",
       "      <td>Tuscany</td>\n",
       "      <td>Cortona</td>\n",
       "      <td>Kerin O’Keefe</td>\n",
       "      <td>@kerinokeefe</td>\n",
       "      <td>Fabrizio Dionisio 2010 Cuculaia Syrah (Cortona)</td>\n",
       "      <td>Syrah</td>\n",
       "      <td>Fabrizio Dionisio</td>\n",
       "    </tr>\n",
       "    <tr>\n",
       "      <th>2</th>\n",
       "      <td>36362</td>\n",
       "      <td>US</td>\n",
       "      <td>Bedell continues to raise the bar for Long Island Merlot with this offering. A rich, savory nose of meat, leather spice and dark berry leads into a poised balance of savory spice, rich fruit, acids and tannins. The wine has a friendly brightness about it but overall, is restrained and integrated.</td>\n",
       "      <td>Reserve</td>\n",
       "      <td>87</td>\n",
       "      <td>48.0</td>\n",
       "      <td>New York</td>\n",
       "      <td>North Fork of Long Island</td>\n",
       "      <td>Susan Kostrzewa</td>\n",
       "      <td>@suskostrzewa</td>\n",
       "      <td>Bedell 2005 Reserve Merlot (North Fork of Long Island)</td>\n",
       "      <td>Merlot</td>\n",
       "      <td>Bedell</td>\n",
       "    </tr>\n",
       "    <tr>\n",
       "      <th>3</th>\n",
       "      <td>60059</td>\n",
       "      <td>Spain</td>\n",
       "      <td>This is almost exactly like the winery's excellent 2004 Gran Reserva, proof that Olabarri knows how to make this style of Tempranillo. This is smooth and concentrated, with a deep color and ripe plum, blackberry and tobacco aromas. Flavors of mossy berry, fresh prune, chocolate and vanilla come with light herbal accents. This is elegant, with aging potential. Drink now–2020.</td>\n",
       "      <td>Gran Reserva</td>\n",
       "      <td>92</td>\n",
       "      <td>32.0</td>\n",
       "      <td>Northern Spain</td>\n",
       "      <td>Rioja</td>\n",
       "      <td>Michael Schachner</td>\n",
       "      <td>@wineschach</td>\n",
       "      <td>Viña Olabarri 2005 Gran Reserva  (Rioja)</td>\n",
       "      <td>Tempranillo</td>\n",
       "      <td>Viña Olabarri</td>\n",
       "    </tr>\n",
       "    <tr>\n",
       "      <th>4</th>\n",
       "      <td>99338</td>\n",
       "      <td>US</td>\n",
       "      <td>From a selection of the original vines at this heritage vineyard, which was planted in the early 1970s, this is densely layered with strawberry, raspberry and cherry fruit. Details are well-integrated, bringing light notes of toasted coconut and caramel. The texture and mouthfeel express the little extras that old vines, when handled properly, can deliver.</td>\n",
       "      <td>Maresh Vineyard Red Barn Blocks</td>\n",
       "      <td>95</td>\n",
       "      <td>70.0</td>\n",
       "      <td>Oregon</td>\n",
       "      <td>Dundee Hills</td>\n",
       "      <td>Paul Gregutt</td>\n",
       "      <td>@paulgwine</td>\n",
       "      <td>Kelley Fox 2014 Maresh Vineyard Red Barn Blocks Pinot Noir (Dundee Hills)</td>\n",
       "      <td>Pinot Noir</td>\n",
       "      <td>Kelley Fox</td>\n",
       "    </tr>\n",
       "  </tbody>\n",
       "</table>\n",
       "</div>"
      ],
      "text/plain": [
       "   index country  \\\n",
       "0  58815  France   \n",
       "1  72808   Italy   \n",
       "2  36362      US   \n",
       "3  60059   Spain   \n",
       "4  99338      US   \n",
       "\n",
       "                                                                                                                                                                                                                                                                                                                                                                                 description  \\\n",
       "0                                                                                                                                                                                           Attractively perfumed, this wine is still full of youthful apple and citrus acidity. It carries light flavors of almonds and tangy Seville orange zest, with the crispest aftertaste. Drink now.   \n",
       "1                                                                                                                                                         Densely concentrated, this plush wine opens with aromas of black currant, espresso and cedar. The robust, one-dimensional palate delivers raisin, chocolate and licorice alongside velvety tannins that hold the flavors together.   \n",
       "2                                                                                  Bedell continues to raise the bar for Long Island Merlot with this offering. A rich, savory nose of meat, leather spice and dark berry leads into a poised balance of savory spice, rich fruit, acids and tannins. The wine has a friendly brightness about it but overall, is restrained and integrated.   \n",
       "3  This is almost exactly like the winery's excellent 2004 Gran Reserva, proof that Olabarri knows how to make this style of Tempranillo. This is smooth and concentrated, with a deep color and ripe plum, blackberry and tobacco aromas. Flavors of mossy berry, fresh prune, chocolate and vanilla come with light herbal accents. This is elegant, with aging potential. Drink now–2020.   \n",
       "4                     From a selection of the original vines at this heritage vineyard, which was planted in the early 1970s, this is densely layered with strawberry, raspberry and cherry fruit. Details are well-integrated, bringing light notes of toasted coconut and caramel. The texture and mouthfeel express the little extras that old vines, when handled properly, can deliver.   \n",
       "\n",
       "                       designation  points  price        province  \\\n",
       "0              Les Grenouilles Sec      86   17.0    Loire Valley   \n",
       "1                         Cuculaia      89   65.0         Tuscany   \n",
       "2                          Reserve      87   48.0        New York   \n",
       "3                     Gran Reserva      92   32.0  Northern Spain   \n",
       "4  Maresh Vineyard Red Barn Blocks      95   70.0          Oregon   \n",
       "\n",
       "                    region_1        taster_name taster_twitter_handle  \\\n",
       "0                    Vouvray         Roger Voss            @vossroger   \n",
       "1                    Cortona      Kerin O’Keefe          @kerinokeefe   \n",
       "2  North Fork of Long Island    Susan Kostrzewa         @suskostrzewa   \n",
       "3                      Rioja  Michael Schachner           @wineschach   \n",
       "4               Dundee Hills       Paul Gregutt           @paulgwine    \n",
       "\n",
       "                                                                       title  \\\n",
       "0                Domaine du Petit Coteau 2012 Les Grenouilles Sec  (Vouvray)   \n",
       "1                            Fabrizio Dionisio 2010 Cuculaia Syrah (Cortona)   \n",
       "2                     Bedell 2005 Reserve Merlot (North Fork of Long Island)   \n",
       "3                                   Viña Olabarri 2005 Gran Reserva  (Rioja)   \n",
       "4  Kelley Fox 2014 Maresh Vineyard Red Barn Blocks Pinot Noir (Dundee Hills)   \n",
       "\n",
       "        variety                   winery  \n",
       "0  Chenin Blanc  Domaine du Petit Coteau  \n",
       "1         Syrah        Fabrizio Dionisio  \n",
       "2        Merlot                   Bedell  \n",
       "3   Tempranillo            Viña Olabarri  \n",
       "4    Pinot Noir               Kelley Fox  "
      ]
     },
     "execution_count": 3,
     "metadata": {},
     "output_type": "execute_result"
    }
   ],
   "source": [
    "#for memory optimization\n",
    "wine_reviews_sampled = wine_reviews.sample(25000).reset_index()\n",
    "wine_reviews_sampled.head()"
   ]
  },
  {
   "cell_type": "code",
   "execution_count": 4,
   "metadata": {},
   "outputs": [],
   "source": [
    "stop_words = set(stopwords.words('english'))\n",
    "lemmatizer = WordNetLemmatizer()\n",
    "\n",
    "def preprocess_text(text):\n",
    "    # Remove non-alphabetic characters\n",
    "    text = re.sub('[^a-zA-Z]', ' ', text)\n",
    "    # Tokenize and convert to lowercase\n",
    "    tokens = word_tokenize(text.lower())\n",
    "    # Remove stopwords and lemmatize the words\n",
    "    processed_text = ' '.join([lemmatizer.lemmatize(word) for word in tokens if word not in stop_words])\n",
    "    return processed_text\n",
    "\n",
    "wine_reviews_sampled['processed_description'] = wine_reviews_sampled['description'].apply(preprocess_text)"
   ]
  },
  {
   "cell_type": "code",
   "execution_count": 5,
   "metadata": {},
   "outputs": [],
   "source": [
    "max_features = 700  # Adjust this value based on your available memory\n",
    "tfidf = TfidfVectorizer(max_features=max_features)\n",
    "description_matrix = tfidf.fit_transform(wine_reviews_sampled['processed_description'])"
   ]
  },
  {
   "cell_type": "code",
   "execution_count": 6,
   "metadata": {},
   "outputs": [],
   "source": [
    "similarity_matrix = cosine_similarity(description_matrix)"
   ]
  },
  {
   "cell_type": "code",
   "execution_count": 7,
   "metadata": {},
   "outputs": [],
   "source": [
    "def recommend_wines(wine_title, n_recommendations=5):\n",
    "    # Find the index of the wine with the given title\n",
    "    wine_index = wine_reviews_sampled[wine_reviews_sampled['title'] == wine_title].index[0]\n",
    "    \n",
    "    # Get similarity scores for the given wine\n",
    "    similarity_scores = list(enumerate(similarity_matrix[wine_index]))\n",
    "    # Sort the wines based on the similarity scores\n",
    "    similarity_scores = sorted(similarity_scores, key=lambda x: x[1], reverse=True)\n",
    "    # Get the indices of the most similar wines (excluding the input wine itself)\n",
    "    most_similar_indices = [score[0] for score in similarity_scores[1:n_recommendations+1]]\n",
    "    # Return the names of the most similar wines\n",
    "    return wine_reviews['title'].iloc[most_similar_indices]"
   ]
  },
  {
   "cell_type": "code",
   "execution_count": 8,
   "metadata": {},
   "outputs": [
    {
     "data": {
      "text/plain": [
       "0                      Domaine du Petit Coteau 2012 Les Grenouilles Sec  (Vouvray)\n",
       "1                                  Fabrizio Dionisio 2010 Cuculaia Syrah (Cortona)\n",
       "2                           Bedell 2005 Reserve Merlot (North Fork of Long Island)\n",
       "3                                         Viña Olabarri 2005 Gran Reserva  (Rioja)\n",
       "4        Kelley Fox 2014 Maresh Vineyard Red Barn Blocks Pinot Noir (Dundee Hills)\n",
       "                                           ...                                    \n",
       "24995               Janzen 2012 Cloudy's Vineyard Cabernet Sauvignon (Napa Valley)\n",
       "24996                               Ponzi 2015 Pinot Noir Rosé (Willamette Valley)\n",
       "24997          Hawks View 2010 Hawks View Vineyard Pinot Noir (Chehalem Mountains)\n",
       "24998           Lucienne 2012 Lone Oak Vineyard Pinot Noir (Santa Lucia Highlands)\n",
       "24999               Rideau 2015 La Encantada Vineyard Pinot Noir (Sta. Rita Hills)\n",
       "Name: title, Length: 25000, dtype: object"
      ]
     },
     "execution_count": 8,
     "metadata": {},
     "output_type": "execute_result"
    }
   ],
   "source": [
    "wine_reviews_sampled['title']"
   ]
  },
  {
   "cell_type": "code",
   "execution_count": 9,
   "metadata": {},
   "outputs": [
    {
     "data": {
      "text/plain": [
       "6781                     Georges Vigouroux 2005 Château de Mercuès Red (Cahors)\n",
       "57703    Château Tour des Gendres 2008 Moulin des Dames Red (Côtes de Bergerac)\n",
       "65560                               Oak Ridge 2012 Big Bad Zin Zinfandel (Lodi)\n",
       "17352                              Istine 2013 Vigna Istine  (Chianti Classico)\n",
       "19933                    Gassier 2012 Château Beaulieu Rosé (Côtes de Provence)\n",
       "Name: title, dtype: object"
      ]
     },
     "metadata": {},
     "output_type": "display_data"
    }
   ],
   "source": [
    "wine_title = 'Condado de Oriza 2006 Roble  (Ribera del Duero)'  # You can search by wine title\n",
    "recommendations = recommend_wines(wine_title)\n",
    "display(recommendations)"
   ]
  },
  {
   "cell_type": "code",
   "execution_count": 11,
   "metadata": {},
   "outputs": [],
   "source": [
    "# import pickle\n",
    "\n",
    "\n",
    "# with open(\"web_app/wine_recommender.pkl\", \"wb\") as f:\n",
    "#     pickle.dump((wine_reviews_sampled['title'], similarity_matrix), f)"
   ]
  }
 ],
 "metadata": {
  "kernelspec": {
   "display_name": "ds",
   "language": "python",
   "name": "python3"
  },
  "language_info": {
   "codemirror_mode": {
    "name": "ipython",
    "version": 3
   },
   "file_extension": ".py",
   "mimetype": "text/x-python",
   "name": "python",
   "nbconvert_exporter": "python",
   "pygments_lexer": "ipython3",
   "version": "3.8.16"
  },
  "orig_nbformat": 4,
  "vscode": {
   "interpreter": {
    "hash": "ad14541a3a9bbb1e690bcdad7542c5b94fc5d38b1f10e265e38c65295405fc23"
   }
  }
 },
 "nbformat": 4,
 "nbformat_minor": 2
}
